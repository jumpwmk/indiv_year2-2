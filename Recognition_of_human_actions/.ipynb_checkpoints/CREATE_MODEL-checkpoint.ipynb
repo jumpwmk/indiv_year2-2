{
 "cells": [
  {
   "cell_type": "code",
   "execution_count": 1,
   "metadata": {},
   "outputs": [],
   "source": [
    "import cv2\n",
    "import numpy as np"
   ]
  },
  {
   "cell_type": "code",
   "execution_count": 2,
   "metadata": {},
   "outputs": [
    {
     "name": "stdout",
     "output_type": "stream",
     "text": [
      "('11', 'boxing', 3)\n",
      "('13', 'handclapping', 5)\n",
      "('13', 'handclapping', 5)\n",
      "('13', 'handclapping', 5)\n",
      "('13', 'handclapping', 5)\n",
      "('13', 'handwaving', 2)\n",
      "('14', 'handwaving', 2)\n",
      "('15', 'boxing', 3)\n",
      "('22', 'boxing', 3)\n"
     ]
    }
   ],
   "source": [
    "def pre_data():\n",
    "  \n",
    "    training = [11, 12, 13, 14, 15, 16, 17, 18]\n",
    "    validation = [19, 20, 21, 23, 24, 25, 1, 4]\n",
    "    test = [22, 2, 3, 5, 6, 7, 8, 9, 10]\n",
    "\n",
    "    classes = ['walking','jogging','handwaving','boxing','running','handclapping']\n",
    "\n",
    "    x_train = []\n",
    "    y_train = []\n",
    "    x_val, y_val = [], []\n",
    "    x_test, y_test = [], []\n",
    "\n",
    "    frames = 24\n",
    "\n",
    "    sheet = open('00sequences.txt')\n",
    "\n",
    "    for s in sheet:\n",
    "        s = s.strip()\n",
    "        if s == '' or s[0] != 'p':\n",
    "            continue\n",
    "        s = s.split()\n",
    "        person = s[0][6:8]\n",
    "        s[0] = s[0].split('_')\n",
    "        typ = s[0][1]\n",
    "        per = s[0][2][1]\n",
    "        intyp = classes.index(typ)\n",
    "        #     print(typ, per)\n",
    "        for i in range(2, 6):\n",
    "            try:\n",
    "                start, end = s[i].strip(',').split('-')\n",
    "                start, end = int(start), int(end)\n",
    "                #       print(person, sftart, end)\n",
    "                tmp = np.empty((frames, 120, 160, 3), dtype = np.uint8)\n",
    "                for j in range(start, end+1):\n",
    "                    if j - start >= frames:\n",
    "                        break\n",
    "                    im = cv2.imread(\"datalab/%s_img/d%s/person%s/frame%d.jpg\"%(typ,per,person,j))\n",
    "                    tmp[j - start] = im\n",
    "                    #           print(im)\n",
    "                    #         break\n",
    "                    tmp = np.array(tmp)\n",
    "                    #       print(tmp)\n",
    "                if int(person) in training:\n",
    "                    #         print(tmp.shape)\n",
    "                    x_train.append(tmp)\n",
    "                    y_train.append(intyp)\n",
    "                elif int(person) in validation:\n",
    "                    #         print(tmp.shape)\n",
    "                    x_val.append(tmp)\n",
    "                    y_val.append(intyp)\n",
    "                elif int(person) in test:\n",
    "                    #         print(tmp.shape)\n",
    "                    x_test.append(tmp)\n",
    "                    y_test.append(intyp)\n",
    "            except:\n",
    "                print(person, typ, intyp)\n",
    "    x_train = np.asarray(x_train)\n",
    "    y_train = np.asarray(y_train)\n",
    "    x_val = np.asarray(x_val)\n",
    "    y_val = np.asarray(y_val)\n",
    "    x_test = np.asarray(x_test)\n",
    "    y_test = np.asarray(y_test)\n",
    "    #   print(x_train.shape, y_train)\n",
    "    #   print(x_val.shape, y_val)\n",
    "    return (x_train, y_train, x_val, y_val, x_test, y_test)\n",
    "    #     break\n",
    "  \n",
    "x_train, y_train, x_val, y_val, x_test, y_test = pre_data()"
   ]
  },
  {
   "cell_type": "code",
   "execution_count": 3,
   "metadata": {},
   "outputs": [],
   "source": [
    "def rgb2gray(rgb):\n",
    "    return np.dot(rgb[...,:3], [0.299, 0.587, 0.114])"
   ]
  },
  {
   "cell_type": "code",
   "execution_count": 4,
   "metadata": {},
   "outputs": [],
   "source": [
    "x_train = rgb2gray(x_train)\n",
    "x_val = rgb2gray(x_val)\n",
    "x_test = rgb2gray(x_test)"
   ]
  },
  {
   "cell_type": "code",
   "execution_count": 5,
   "metadata": {},
   "outputs": [
    {
     "data": {
      "text/plain": [
       "(863, 24, 120, 160)"
      ]
     },
     "execution_count": 5,
     "metadata": {},
     "output_type": "execute_result"
    }
   ],
   "source": [
    "x_test.shape"
   ]
  },
  {
   "cell_type": "code",
   "execution_count": 6,
   "metadata": {},
   "outputs": [],
   "source": [
    "x_train = x_train.reshape(760,24,120,160,1)\n",
    "x_val = x_val.reshape(768,24,120,160,1)\n",
    "x_test = x_test.reshape(863,24,120,160,1)\n",
    "\n",
    "y_train = y_train.reshape(760,1)\n",
    "y_val = y_val.reshape(768,1)\n",
    "y_test = y_test.reshape(863,1)"
   ]
  },
  {
   "cell_type": "code",
   "execution_count": 7,
   "metadata": {},
   "outputs": [
    {
     "data": {
      "text/plain": [
       "(760, 24, 120, 160, 1)"
      ]
     },
     "execution_count": 7,
     "metadata": {},
     "output_type": "execute_result"
    }
   ],
   "source": [
    "x_train.shape"
   ]
  },
  {
   "cell_type": "code",
   "execution_count": 8,
   "metadata": {},
   "outputs": [
    {
     "name": "stderr",
     "output_type": "stream",
     "text": [
      "/usr/local/lib/python2.7/dist-packages/h5py/__init__.py:36: FutureWarning: Conversion of the second argument of issubdtype from `float` to `np.floating` is deprecated. In future, it will be treated as `np.float64 == np.dtype(float).type`.\n",
      "  from ._conv import register_converters as _register_converters\n",
      "Using TensorFlow backend.\n"
     ]
    }
   ],
   "source": [
    "from __future__ import print_function\n",
    "\n",
    "from keras.models import Sequential\n",
    "from keras.layers.convolutional import Conv2D\n",
    "from keras.layers import LSTM, TimeDistributed, Merge, Flatten\n",
    "from keras.layers import Dense, Dropout, Activation, MaxPooling2D, MaxPooling3D\n",
    "from keras.layers.normalization import BatchNormalization\n",
    "from keras.layers.convolutional_recurrent import ConvLSTM2D\n",
    "import numpy as np\n",
    "# import pylab as plt"
   ]
  },
  {
   "cell_type": "code",
   "execution_count": 9,
   "metadata": {},
   "outputs": [],
   "source": [
    "def create_model(frames):\n",
    "    \n",
    "    model = Sequential()\n",
    "    model.add(BatchNormalization())\n",
    "    model.add(ConvLSTM2D(filters=20,\n",
    "                       kernel_size=(3, 3),             \n",
    "                       input_shape = (frames, 120, 160, 1),  \n",
    "                       return_sequences=True))\n",
    "    \n",
    "    model.add(Dropout(0.4))\n",
    "    model.add(MaxPooling3D(pool_size=(2, 2, 2)))\n",
    "    \n",
    "    model.add(ConvLSTM2D(filters=20,\n",
    "                       kernel_size=(3, 3),             \n",
    "                       return_sequences=True))\n",
    "    \n",
    "    model.add(MaxPooling3D(pool_size=(2, 2, 2)))\n",
    "    \n",
    "    model.add(ConvLSTM2D(filters=10,\n",
    "                       kernel_size=(3, 3),             \n",
    "                       return_sequences=False))\n",
    "    \n",
    "    model.add(Dropout(0.4))\n",
    "    model.add(MaxPooling2D(pool_size=(2, 2)))\n",
    "    model.add(Flatten())\n",
    "    model.add(Dense(6,activation='softmax'))         \n",
    "#     model.add(Dense(256,activation='relu'))\n",
    "    \n",
    "    \n",
    "    model.compile(loss='sparse_categorical_crossentropy', optimizer='rmsprop', metrics=['accuracy'])\n",
    "    return model"
   ]
  },
  {
   "cell_type": "code",
   "execution_count": 9,
   "metadata": {},
   "outputs": [],
   "source": [
    "#model = create_model(24)\n",
    "from keras.models import load_model\n",
    "model = load_model('4model-001.h5')"
   ]
  },
  {
   "cell_type": "code",
   "execution_count": 11,
   "metadata": {},
   "outputs": [
    {
     "data": {
      "text/plain": [
       "(760, 1)"
      ]
     },
     "execution_count": 11,
     "metadata": {},
     "output_type": "execute_result"
    }
   ],
   "source": [
    "y_train.shape"
   ]
  },
  {
   "cell_type": "code",
   "execution_count": 12,
   "metadata": {},
   "outputs": [
    {
     "name": "stdout",
     "output_type": "stream",
     "text": [
      "_________________________________________________________________\n",
      "Layer (type)                 Output Shape              Param #   \n",
      "=================================================================\n",
      "conv_lst_m2d_1 (ConvLSTM2D)  (None, 24, 118, 158, 20)  15200     \n",
      "_________________________________________________________________\n",
      "dropout_1 (Dropout)          (None, 24, 118, 158, 20)  0         \n",
      "_________________________________________________________________\n",
      "max_pooling3d_1 (MaxPooling3 (None, 12, 59, 79, 20)    0         \n",
      "_________________________________________________________________\n",
      "conv_lst_m2d_2 (ConvLSTM2D)  (None, 12, 57, 77, 20)    28880     \n",
      "_________________________________________________________________\n",
      "max_pooling3d_2 (MaxPooling3 (None, 6, 28, 38, 20)     0         \n",
      "_________________________________________________________________\n",
      "conv_lst_m2d_3 (ConvLSTM2D)  (None, 26, 36, 10)        10840     \n",
      "_________________________________________________________________\n",
      "dropout_2 (Dropout)          (None, 26, 36, 10)        0         \n",
      "_________________________________________________________________\n",
      "max_pooling2d_1 (MaxPooling2 (None, 13, 18, 10)        0         \n",
      "_________________________________________________________________\n",
      "flatten_1 (Flatten)          (None, 2340)              0         \n",
      "_________________________________________________________________\n",
      "dense_1 (Dense)              (None, 6)                 14046     \n",
      "=================================================================\n",
      "Total params: 68,966\n",
      "Trainable params: 68,966\n",
      "Non-trainable params: 0\n",
      "_________________________________________________________________\n"
     ]
    }
   ],
   "source": [
    "model.summary()"
   ]
  },
  {
   "cell_type": "code",
   "execution_count": 13,
   "metadata": {},
   "outputs": [
    {
     "name": "stdout",
     "output_type": "stream",
     "text": [
      "Train on 760 samples, validate on 768 samples\n",
      "Epoch 1/1\n",
      "760/760 [==============================] - 2172s 3s/step - loss: 0.4558 - acc: 0.8276 - val_loss: 0.9435 - val_acc: 0.6276\n",
      "\n",
      "Epoch 00001: val_loss improved from inf to 0.94355, saving model to 7model-001.h5\n"
     ]
    },
    {
     "data": {
      "text/plain": [
       "<keras.callbacks.History at 0x7fdaf9d0de10>"
      ]
     },
     "execution_count": 13,
     "metadata": {},
     "output_type": "execute_result"
    }
   ],
   "source": [
    "import keras\n",
    "checkpoint = keras.callbacks.ModelCheckpoint('7model-{epoch:03d}.h5', verbose=1, monitor='val_loss',save_best_only=True, mode='auto')\n",
    "model.fit(x_train, y_train, batch_size = 20, epochs = 1, callbacks=[checkpoint], validation_data = (x_val, y_val))"
   ]
  },
  {
   "cell_type": "code",
   "execution_count": 14,
   "metadata": {},
   "outputs": [
    {
     "data": {
      "text/plain": [
       "(760, 1)"
      ]
     },
     "execution_count": 14,
     "metadata": {},
     "output_type": "execute_result"
    }
   ],
   "source": [
    "y_train.shape"
   ]
  },
  {
   "cell_type": "code",
   "execution_count": 15,
   "metadata": {},
   "outputs": [
    {
     "data": {
      "text/plain": [
       "(768, 1)"
      ]
     },
     "execution_count": 15,
     "metadata": {},
     "output_type": "execute_result"
    }
   ],
   "source": [
    "y_val.shape"
   ]
  },
  {
   "cell_type": "code",
   "execution_count": null,
   "metadata": {},
   "outputs": [],
   "source": [
    "#3model-001.h5 loss = 0.89181\n",
    "#4model-001.h5 loss = 0.81537\n",
    "#5model-001.h5 loss = 0.83995\n",
    "#6model-001.h5 loss = 0.88543\n",
    "#7model-001.h5 loss = 0.94355"
   ]
  },
  {
   "cell_type": "code",
   "execution_count": 10,
   "metadata": {},
   "outputs": [
    {
     "name": "stdout",
     "output_type": "stream",
     "text": [
      "863/863 [==============================] - 374s 434ms/step\n"
     ]
    }
   ],
   "source": [
    "scores = model.evaluate(x_test, y_test, verbose=1)"
   ]
  },
  {
   "cell_type": "code",
   "execution_count": 24,
   "metadata": {},
   "outputs": [
    {
     "name": "stdout",
     "output_type": "stream",
     "text": [
      "Accuracy = 64.66%\n"
     ]
    }
   ],
   "source": [
    "print(\"Accuracy = %.2f\" % (scores[1]*100)+\"%\")"
   ]
  },
  {
   "cell_type": "code",
   "execution_count": null,
   "metadata": {},
   "outputs": [],
   "source": []
  }
 ],
 "metadata": {
  "kernelspec": {
   "display_name": "Python 3",
   "language": "python",
   "name": "python3"
  },
  "language_info": {
   "codemirror_mode": {
    "name": "ipython",
    "version": 3
   },
   "file_extension": ".py",
   "mimetype": "text/x-python",
   "name": "python",
   "nbconvert_exporter": "python",
   "pygments_lexer": "ipython3",
   "version": "3.6.4"
  }
 },
 "nbformat": 4,
 "nbformat_minor": 2
}
